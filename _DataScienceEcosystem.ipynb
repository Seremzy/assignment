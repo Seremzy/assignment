{
 "cells": [
  {
   "cell_type": "markdown",
   "id": "32b1845d-acc3-421a-a95a-c8252391e2c9",
   "metadata": {},
   "source": [
    "# Data Science Tools and Ecosystem"
   ]
  },
  {
   "cell_type": "markdown",
   "id": "d8d9da58-ef1d-40db-a912-8208f8dace03",
   "metadata": {},
   "source": [
    "In this notebook, Data Science Tools and Ecosystem are summarized."
   ]
  },
  {
   "cell_type": "markdown",
   "id": "8c047608-913f-4288-afe5-59de63703a60",
   "metadata": {},
   "source": [
    "**Objectives**\n",
    "- List of popular of popular languages\n",
    "- List of commonly used libraries\n",
    "- List of Data Science tools\n",
    "- Example of arithmetic expressions"
   ]
  },
  {
   "cell_type": "markdown",
   "id": "9d089657-1d44-46f5-a0a2-57216875fe3d",
   "metadata": {},
   "source": [
    "Some of the popular languages Data Scientists use are:\n",
    "1. Python\n",
    "2. R\n",
    "3. SQL\n",
    "4. Java"
   ]
  },
  {
   "cell_type": "markdown",
   "id": "94ad255d-5e49-477b-91f4-2cacf8d726ca",
   "metadata": {},
   "source": [
    "### Overview of this cell\n",
    "Some of the commonly used libraries used by Data Scientists include:\n",
    "1. Pandas\n",
    "2. TensorFlow\n",
    "3. Numpy\n",
    "4. Scikit"
   ]
  },
  {
   "cell_type": "markdown",
   "id": "9fa2460d-57d4-49b2-b82a-384917387757",
   "metadata": {},
   "source": [
    " | **Data Science Tools** |\n",
    " |------------ |\n",
    " | Jupyter Notebook |\n",
    " | Visual Studio Code |\n",
    " | TensorFlow |"
   ]
  },
  {
   "cell_type": "markdown",
   "id": "2d4726cb-d3f9-4082-9315-73672fa39cd3",
   "metadata": {},
   "source": [
    "### Below are few examples of evaluating arithmetic expressions in Python"
   ]
  },
  {
   "cell_type": "code",
   "execution_count": 13,
   "id": "31c8ad66-e4b9-45d6-9e6b-c1b209164862",
   "metadata": {
    "scrolled": true
   },
   "outputs": [
    {
     "name": "stdout",
     "output_type": "stream",
     "text": [
      "17\n"
     ]
    }
   ],
   "source": [
    "# This a simple arithmetic expression to multiply then add integers.\n",
    "result =(3 * 4 ) + 5\n",
    "print(result) "
   ]
  },
  {
   "cell_type": "code",
   "execution_count": 12,
   "id": "2f43ac2c-22ed-4b8f-a6b7-8eebe259be12",
   "metadata": {},
   "outputs": [
    {
     "name": "stdout",
     "output_type": "stream",
     "text": [
      "3.3333333333333335\n"
     ]
    }
   ],
   "source": [
    "# Convert 200 minutes into hours\n",
    "minutes = 200\n",
    "hours = minutes / 60\n",
    "print(hours)"
   ]
  },
  {
   "cell_type": "markdown",
   "id": "b8480c8b-001a-4381-a53c-a274dda5fc6a",
   "metadata": {},
   "source": [
    "## Author\n",
    "Nicole Serem"
   ]
  },
  {
   "cell_type": "code",
   "execution_count": null,
   "id": "686313b8-de00-419a-b442-d96a4583db6d",
   "metadata": {},
   "outputs": [],
   "source": []
  }
 ],
 "metadata": {
  "kernelspec": {
   "display_name": "Python 3 (ipykernel)",
   "language": "python",
   "name": "python3"
  },
  "language_info": {
   "codemirror_mode": {
    "name": "ipython",
    "version": 3
   },
   "file_extension": ".py",
   "mimetype": "text/x-python",
   "name": "python",
   "nbconvert_exporter": "python",
   "pygments_lexer": "ipython3",
   "version": "3.12.8"
  }
 },
 "nbformat": 4,
 "nbformat_minor": 5
}
